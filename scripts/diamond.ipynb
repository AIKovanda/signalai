{
 "cells": [
  {
   "cell_type": "code",
   "execution_count": 1,
   "id": "3b82c7e5-d566-4e47-82db-a9e8c56fbbb4",
   "metadata": {},
   "outputs": [],
   "source": [
    "import pandas as pd\n",
    "from signalai.config import CONFIG_DIR, PIPELINE_SAVE_PATH\n",
    "from taskorganizer.pipeline import Pipeline\n",
    "from signalai.signal_tools.signal import SignalDataset, Signal\n",
    "\n",
    "import torch \n",
    "import torch.nn as nn\n",
    "import torch.nn.functional as F\n",
    "from inceptiontime import InceptionBlock\n",
    "import torch.optim as optim\n",
    "from tqdm import tqdm, trange\n",
    "import numpy as np\n",
    "\n",
    "%load_ext autoreload\n",
    "%autoreload 2\n",
    "%config InlineBackend.figure_format = 'svg'"
   ]
  },
  {
   "cell_type": "code",
   "execution_count": 2,
   "id": "fc551704-8036-45b8-8fa7-8f9abce97054",
   "metadata": {},
   "outputs": [],
   "source": [
    "config_path = CONFIG_DIR / \"processing\" / \"pipeline.yaml\"\n",
    "params_config_path = CONFIG_DIR / \"data_preparation\" / \"diamond_noise_cropped.yaml\"\n",
    "generator_config_path = CONFIG_DIR / \"generators\" / \"diamond.yaml\"\n",
    "pip = Pipeline(\n",
    "    config_path,\n",
    "    config_dir=CONFIG_DIR,\n",
    "    save_folder=PIPELINE_SAVE_PATH,\n",
    "    parameter_yamls=[params_config_path, generator_config_path]\n",
    ")"
   ]
  },
  {
   "cell_type": "code",
   "execution_count": 3,
   "id": "86dce62f-0540-4558-99ee-9a7900d0c577",
   "metadata": {},
   "outputs": [],
   "source": [
    "df = pip.run(\"DatasetLoader\")"
   ]
  },
  {
   "cell_type": "code",
   "execution_count": 4,
   "id": "a1c4fe85-1646-407d-9874-889f8269972a",
   "metadata": {},
   "outputs": [
    {
     "data": {
      "text/html": [
       "<div>\n",
       "<style scoped>\n",
       "    .dataframe tbody tr th:only-of-type {\n",
       "        vertical-align: middle;\n",
       "    }\n",
       "\n",
       "    .dataframe tbody tr th {\n",
       "        vertical-align: top;\n",
       "    }\n",
       "\n",
       "    .dataframe thead th {\n",
       "        text-align: right;\n",
       "    }\n",
       "</style>\n",
       "<table border=\"1\" class=\"dataframe\">\n",
       "  <thead>\n",
       "    <tr style=\"text-align: right;\">\n",
       "      <th></th>\n",
       "      <th>dataset</th>\n",
       "      <th>filename</th>\n",
       "      <th>filename_id</th>\n",
       "      <th>channel_id</th>\n",
       "      <th>split</th>\n",
       "      <th>interval_end</th>\n",
       "      <th>interval_length</th>\n",
       "      <th>values</th>\n",
       "      <th>frequency</th>\n",
       "      <th>big_endian</th>\n",
       "      <th>source_dtype</th>\n",
       "      <th>dtype_bytes</th>\n",
       "      <th>signed</th>\n",
       "      <th>op_dtype</th>\n",
       "      <th>to_ram</th>\n",
       "      <th>standardize</th>\n",
       "      <th>adjustment</th>\n",
       "      <th>dataset_id</th>\n",
       "      <th>dataset_total</th>\n",
       "    </tr>\n",
       "    <tr>\n",
       "      <th>interval_start</th>\n",
       "      <th></th>\n",
       "      <th></th>\n",
       "      <th></th>\n",
       "      <th></th>\n",
       "      <th></th>\n",
       "      <th></th>\n",
       "      <th></th>\n",
       "      <th></th>\n",
       "      <th></th>\n",
       "      <th></th>\n",
       "      <th></th>\n",
       "      <th></th>\n",
       "      <th></th>\n",
       "      <th></th>\n",
       "      <th></th>\n",
       "      <th></th>\n",
       "      <th></th>\n",
       "      <th></th>\n",
       "      <th></th>\n",
       "    </tr>\n",
       "  </thead>\n",
       "  <tbody>\n",
       "    <tr>\n",
       "      <th>9500</th>\n",
       "      <td>8000</td>\n",
       "      <td>8000</td>\n",
       "      <td>8000</td>\n",
       "      <td>8000</td>\n",
       "      <td>8000</td>\n",
       "      <td>8000</td>\n",
       "      <td>8000</td>\n",
       "      <td>8000</td>\n",
       "      <td>8000</td>\n",
       "      <td>8000</td>\n",
       "      <td>8000</td>\n",
       "      <td>8000</td>\n",
       "      <td>8000</td>\n",
       "      <td>8000</td>\n",
       "      <td>8000</td>\n",
       "      <td>8000</td>\n",
       "      <td>8000</td>\n",
       "      <td>8000</td>\n",
       "      <td>8000</td>\n",
       "    </tr>\n",
       "  </tbody>\n",
       "</table>\n",
       "</div>"
      ],
      "text/plain": [
       "                dataset  filename  filename_id  channel_id  split  \\\n",
       "interval_start                                                      \n",
       "9500               8000      8000         8000        8000   8000   \n",
       "\n",
       "                interval_end  interval_length  values  frequency  big_endian  \\\n",
       "interval_start                                                                 \n",
       "9500                    8000             8000    8000       8000        8000   \n",
       "\n",
       "                source_dtype  dtype_bytes  signed  op_dtype  to_ram  \\\n",
       "interval_start                                                        \n",
       "9500                    8000         8000    8000      8000    8000   \n",
       "\n",
       "                standardize  adjustment  dataset_id  dataset_total  \n",
       "interval_start                                                      \n",
       "9500                   8000        8000        8000           8000  "
      ]
     },
     "execution_count": 4,
     "metadata": {},
     "output_type": "execute_result"
    }
   ],
   "source": [
    "df.groupby(\"interval_start\").count()"
   ]
  },
  {
   "cell_type": "code",
   "execution_count": 5,
   "id": "c33f16af-f666-4cac-b27e-311d43bc6e54",
   "metadata": {},
   "outputs": [
    {
     "data": {
      "text/html": [
       "<div>\n",
       "<style scoped>\n",
       "    .dataframe tbody tr th:only-of-type {\n",
       "        vertical-align: middle;\n",
       "    }\n",
       "\n",
       "    .dataframe tbody tr th {\n",
       "        vertical-align: top;\n",
       "    }\n",
       "\n",
       "    .dataframe thead th {\n",
       "        text-align: right;\n",
       "    }\n",
       "</style>\n",
       "<table border=\"1\" class=\"dataframe\">\n",
       "  <thead>\n",
       "    <tr style=\"text-align: right;\">\n",
       "      <th></th>\n",
       "      <th>dataset</th>\n",
       "      <th>filename</th>\n",
       "      <th>filename_id</th>\n",
       "      <th>channel_id</th>\n",
       "      <th>split</th>\n",
       "      <th>interval_start</th>\n",
       "      <th>interval_end</th>\n",
       "      <th>interval_length</th>\n",
       "      <th>values</th>\n",
       "      <th>frequency</th>\n",
       "      <th>big_endian</th>\n",
       "      <th>source_dtype</th>\n",
       "      <th>dtype_bytes</th>\n",
       "      <th>signed</th>\n",
       "      <th>op_dtype</th>\n",
       "      <th>to_ram</th>\n",
       "      <th>standardize</th>\n",
       "      <th>adjustment</th>\n",
       "      <th>dataset_id</th>\n",
       "      <th>dataset_total</th>\n",
       "    </tr>\n",
       "  </thead>\n",
       "  <tbody>\n",
       "    <tr>\n",
       "      <th>4124</th>\n",
       "      <td>diamond_loc05</td>\n",
       "      <td>/mnt/AXAGO/Martin/signalai/diamond/AEforANN-tu...</td>\n",
       "      <td>AEforANN-tube1-diamond-loc05_ch_032.bin-0-train</td>\n",
       "      <td>0</td>\n",
       "      <td>train</td>\n",
       "      <td>9500</td>\n",
       "      <td>25884</td>\n",
       "      <td>16384</td>\n",
       "      <td>100000</td>\n",
       "      <td>1562500</td>\n",
       "      <td>True</td>\n",
       "      <td>float32</td>\n",
       "      <td>4</td>\n",
       "      <td>True</td>\n",
       "      <td>float32</td>\n",
       "      <td>True</td>\n",
       "      <td>True</td>\n",
       "      <td>0</td>\n",
       "      <td>5</td>\n",
       "      <td>10</td>\n",
       "    </tr>\n",
       "    <tr>\n",
       "      <th>4125</th>\n",
       "      <td>diamond_loc05</td>\n",
       "      <td>/mnt/AXAGO/Martin/signalai/diamond/AEforANN-tu...</td>\n",
       "      <td>AEforANN-tube1-diamond-loc05_ch_032.bin-0-train</td>\n",
       "      <td>1</td>\n",
       "      <td>train</td>\n",
       "      <td>9500</td>\n",
       "      <td>25884</td>\n",
       "      <td>16384</td>\n",
       "      <td>100000</td>\n",
       "      <td>1562500</td>\n",
       "      <td>True</td>\n",
       "      <td>float32</td>\n",
       "      <td>4</td>\n",
       "      <td>True</td>\n",
       "      <td>float32</td>\n",
       "      <td>True</td>\n",
       "      <td>True</td>\n",
       "      <td>0</td>\n",
       "      <td>5</td>\n",
       "      <td>10</td>\n",
       "    </tr>\n",
       "    <tr>\n",
       "      <th>4126</th>\n",
       "      <td>diamond_loc05</td>\n",
       "      <td>/mnt/AXAGO/Martin/signalai/diamond/AEforANN-tu...</td>\n",
       "      <td>AEforANN-tube1-diamond-loc05_ch_032.bin-0-train</td>\n",
       "      <td>2</td>\n",
       "      <td>train</td>\n",
       "      <td>9500</td>\n",
       "      <td>25884</td>\n",
       "      <td>16384</td>\n",
       "      <td>100000</td>\n",
       "      <td>1562500</td>\n",
       "      <td>True</td>\n",
       "      <td>float32</td>\n",
       "      <td>4</td>\n",
       "      <td>True</td>\n",
       "      <td>float32</td>\n",
       "      <td>True</td>\n",
       "      <td>True</td>\n",
       "      <td>0</td>\n",
       "      <td>5</td>\n",
       "      <td>10</td>\n",
       "    </tr>\n",
       "    <tr>\n",
       "      <th>4127</th>\n",
       "      <td>diamond_loc05</td>\n",
       "      <td>/mnt/AXAGO/Martin/signalai/diamond/AEforANN-tu...</td>\n",
       "      <td>AEforANN-tube1-diamond-loc05_ch_032.bin-0-train</td>\n",
       "      <td>3</td>\n",
       "      <td>train</td>\n",
       "      <td>9500</td>\n",
       "      <td>25884</td>\n",
       "      <td>16384</td>\n",
       "      <td>100000</td>\n",
       "      <td>1562500</td>\n",
       "      <td>True</td>\n",
       "      <td>float32</td>\n",
       "      <td>4</td>\n",
       "      <td>True</td>\n",
       "      <td>float32</td>\n",
       "      <td>True</td>\n",
       "      <td>True</td>\n",
       "      <td>0</td>\n",
       "      <td>5</td>\n",
       "      <td>10</td>\n",
       "    </tr>\n",
       "  </tbody>\n",
       "</table>\n",
       "</div>"
      ],
      "text/plain": [
       "            dataset                                           filename  \\\n",
       "4124  diamond_loc05  /mnt/AXAGO/Martin/signalai/diamond/AEforANN-tu...   \n",
       "4125  diamond_loc05  /mnt/AXAGO/Martin/signalai/diamond/AEforANN-tu...   \n",
       "4126  diamond_loc05  /mnt/AXAGO/Martin/signalai/diamond/AEforANN-tu...   \n",
       "4127  diamond_loc05  /mnt/AXAGO/Martin/signalai/diamond/AEforANN-tu...   \n",
       "\n",
       "                                          filename_id  channel_id  split  \\\n",
       "4124  AEforANN-tube1-diamond-loc05_ch_032.bin-0-train           0  train   \n",
       "4125  AEforANN-tube1-diamond-loc05_ch_032.bin-0-train           1  train   \n",
       "4126  AEforANN-tube1-diamond-loc05_ch_032.bin-0-train           2  train   \n",
       "4127  AEforANN-tube1-diamond-loc05_ch_032.bin-0-train           3  train   \n",
       "\n",
       "      interval_start  interval_end  interval_length  values  frequency  \\\n",
       "4124            9500         25884            16384  100000    1562500   \n",
       "4125            9500         25884            16384  100000    1562500   \n",
       "4126            9500         25884            16384  100000    1562500   \n",
       "4127            9500         25884            16384  100000    1562500   \n",
       "\n",
       "      big_endian source_dtype  dtype_bytes  signed op_dtype  to_ram  \\\n",
       "4124        True      float32            4    True  float32    True   \n",
       "4125        True      float32            4    True  float32    True   \n",
       "4126        True      float32            4    True  float32    True   \n",
       "4127        True      float32            4    True  float32    True   \n",
       "\n",
       "      standardize  adjustment  dataset_id  dataset_total  \n",
       "4124         True           0           5             10  \n",
       "4125         True           0           5             10  \n",
       "4126         True           0           5             10  \n",
       "4127         True           0           5             10  "
      ]
     },
     "execution_count": 5,
     "metadata": {},
     "output_type": "execute_result"
    }
   ],
   "source": [
    "df.query(\"filename_id=='AEforANN-tube1-diamond-loc05_ch_032.bin-0-train'\")"
   ]
  },
  {
   "cell_type": "code",
   "execution_count": 6,
   "id": "8eaa4199-872c-4d91-a1c1-bf4ae80fa48d",
   "metadata": {},
   "outputs": [
    {
     "name": "stderr",
     "output_type": "stream",
     "text": [
      "Loading datasets ['diamond_loc00', 'diamond_loc01', 'diamond_loc02', 'diamond_loc03', 'diamond_loc04', 'diamond_loc05', 'diamond_loc06', 'diamond_loc07', 'diamond_loc08', 'diamond_loc09'] to RAM: 100%|██████████| 2000/2000 [00:49<00:00, 40.67it/s]\n"
     ]
    }
   ],
   "source": [
    "gen_gen = pip.run(\"data_generator\")"
   ]
  },
  {
   "cell_type": "code",
   "execution_count": 24,
   "id": "60ae809b-f312-4c9b-a1d6-2e41cc653e19",
   "metadata": {},
   "outputs": [
    {
     "data": {
      "text/plain": [
       "                                                               0\n",
       "dataset                                            diamond_loc00\n",
       "filename_id      AEforANN-tube1-diamond-loc00_ch_001.bin-0-valid\n",
       "split                                                      valid\n",
       "interval_start                                              9500\n",
       "interval_end                                               25884\n",
       "interval_length                                            16384\n",
       "values                                                    100000\n",
       "frequency                                                1562500\n",
       "big_endian                                                  True\n",
       "source_dtype                                             float32\n",
       "dtype_bytes                                                    4\n",
       "signed                                                      True\n",
       "op_dtype                                                 float32\n",
       "to_ram                                                      True\n",
       "standardize                                                 True\n",
       "adjustment                                                     0\n",
       "dataset_id                                                     0\n",
       "dataset_total                                                 10"
      ]
     },
     "execution_count": 24,
     "metadata": {},
     "output_type": "execute_result"
    }
   ],
   "source": [
    "gen_gen.signal_loader.loaded_signals[\"AEforANN-tube1-diamond-loc00_ch_001.bin-0-valid\"]"
   ]
  },
  {
   "cell_type": "code",
   "execution_count": 14,
   "id": "9c1b29fc-03ff-4be8-aeec-189e27c4b168",
   "metadata": {},
   "outputs": [],
   "source": [
    "gen = gen_gen.get_generator(\"train\", log=0, batch_size=16)\n",
    "#val_gen = gen_gen.get_generator(\"train\", log=0)"
   ]
  },
  {
   "cell_type": "code",
   "execution_count": 15,
   "id": "f14f2e8e-a547-4902-8e67-6c9acd46777e",
   "metadata": {},
   "outputs": [],
   "source": [
    "#for i, j in enumerate(gen.tracks['t0']['datasets']['diamond_loc01'].loaded_signals.values()):\n",
    "    #print(j.next(gen)signal)\n",
    "    #if i == 200:\n",
    "        #break"
   ]
  },
  {
   "cell_type": "code",
   "execution_count": 17,
   "id": "dedf194b-6d06-4a2f-ac71-e37e447f079a",
   "metadata": {},
   "outputs": [
    {
     "name": "stderr",
     "output_type": "stream",
     "text": [
      "100%|██████████| 2000/2000 [00:05<00:00, 381.27it/s]"
     ]
    },
    {
     "name": "stdout",
     "output_type": "stream",
     "text": [
      "CPU times: user 5.22 s, sys: 27.4 ms, total: 5.25 s\n",
      "Wall time: 5.25 s\n"
     ]
    },
    {
     "name": "stderr",
     "output_type": "stream",
     "text": [
      "\n"
     ]
    }
   ],
   "source": [
    "%%time\n",
    "for i in tqdm(range(2000)):\n",
    "    X, Y = next(gen)\n",
    "    _=torch.from_numpy(np.array(X)).to(\"cuda\")\n",
    "    _=torch.from_numpy(np.array(Y)).to(\"cuda\")\n",
    "        "
   ]
  },
  {
   "cell_type": "code",
   "execution_count": 10,
   "id": "ef17d9f1-334e-4c17-b6f1-9dca702ff6ba",
   "metadata": {},
   "outputs": [],
   "source": [
    "class Flatten(nn.Module):\n",
    "\tdef __init__(self, out_features):\n",
    "\t\tsuper(Flatten, self).__init__()\n",
    "\t\tself.output_dim = out_features\n",
    "\n",
    "\tdef forward(self, x):\n",
    "\t\treturn x.view(-1, self.output_dim)"
   ]
  },
  {
   "cell_type": "code",
   "execution_count": 11,
   "id": "606a147e-205b-4bed-9d4a-540e00afa5c7",
   "metadata": {},
   "outputs": [],
   "source": [
    "device = \"cuda\""
   ]
  },
  {
   "cell_type": "code",
   "execution_count": 12,
   "id": "bd28bbef-634a-411a-8219-488f7050c02c",
   "metadata": {},
   "outputs": [],
   "source": [
    "net = nn.Sequential(\n",
    "    InceptionBlock(\n",
    "        in_channels=4,\n",
    "        n_filters=32,\n",
    "        kernel_sizes=[5, 11, 23],\n",
    "        bottleneck_channels=32,\n",
    "        use_residual=True,\n",
    "        activation=nn.SELU()\n",
    "    ),\n",
    "    InceptionBlock(\n",
    "        in_channels=32 * 4,\n",
    "        n_filters=32,\n",
    "        kernel_sizes=[5, 11, 23],\n",
    "        bottleneck_channels=32,\n",
    "        use_residual=True,\n",
    "        activation=nn.SELU()\n",
    "    ),\n",
    "    nn.AdaptiveAvgPool1d(output_size=1),\n",
    "    Flatten(out_features=32 * 4 * 1),\n",
    "    nn.Linear(in_features=4 * 32 * 1, out_features=11),\n",
    "    nn.Softmax(dim=-1)\n",
    ").to(device)"
   ]
  },
  {
   "cell_type": "code",
   "execution_count": 13,
   "id": "44b6acb2-daec-421d-b121-f5732a07cfbb",
   "metadata": {},
   "outputs": [],
   "source": [
    "criterion = nn.CrossEntropyLoss()\n",
    "optimizer = optim.SGD(net.parameters(), lr=0.001, momentum=0.9)\n",
    "\n",
    "running_loss = 0.0"
   ]
  },
  {
   "cell_type": "code",
   "execution_count": 14,
   "id": "bb782e44-2cc7-43c9-9ef6-908f6a3e6ef7",
   "metadata": {},
   "outputs": [
    {
     "name": "stderr",
     "output_type": "stream",
     "text": [
      "  0%|          | 0/4000 [00:00<?, ?it/s]/home/martin/anaconda3/envs/torch/lib/python3.8/site-packages/torch/nn/functional.py:652: UserWarning: Named tensors and all their associated APIs are an experimental feature and subject to change. Please do not use them for anything important until they are released as stable. (Triggered internally at  /opt/conda/conda-bld/pytorch_1623448234945/work/c10/core/TensorImpl.h:1156.)\n",
      "  return torch.max_pool1d(input, kernel_size, stride, padding, dilation, ceil_mode)\n",
      "Loss:  2.3968:   0%|          | 1/4000 [00:00<25:43,  2.59it/s]"
     ]
    },
    {
     "name": "stdout",
     "output_type": "stream",
     "text": [
      "\n"
     ]
    },
    {
     "name": "stderr",
     "output_type": "stream",
     "text": [
      "Loss:  2.3483:  10%|█         | 401/4000 [01:34<14:04,  4.26it/s]"
     ]
    },
    {
     "name": "stdout",
     "output_type": "stream",
     "text": [
      "\n"
     ]
    },
    {
     "name": "stderr",
     "output_type": "stream",
     "text": [
      "Loss:  2.2613:  20%|██        | 801/4000 [03:08<12:26,  4.29it/s]"
     ]
    },
    {
     "name": "stdout",
     "output_type": "stream",
     "text": [
      "\n"
     ]
    },
    {
     "name": "stderr",
     "output_type": "stream",
     "text": [
      "Loss:  2.2127:  30%|███       | 1201/4000 [04:45<10:55,  4.27it/s]"
     ]
    },
    {
     "name": "stdout",
     "output_type": "stream",
     "text": [
      "\n"
     ]
    },
    {
     "name": "stderr",
     "output_type": "stream",
     "text": [
      "Loss:  2.1360:  40%|████      | 1601/4000 [06:19<09:25,  4.25it/s]"
     ]
    },
    {
     "name": "stdout",
     "output_type": "stream",
     "text": [
      "\n"
     ]
    },
    {
     "name": "stderr",
     "output_type": "stream",
     "text": [
      "Loss:  2.0759:  50%|█████     | 2001/4000 [07:53<07:54,  4.22it/s]"
     ]
    },
    {
     "name": "stdout",
     "output_type": "stream",
     "text": [
      "\n"
     ]
    },
    {
     "name": "stderr",
     "output_type": "stream",
     "text": [
      "Loss:  2.0857:  60%|██████    | 2401/4000 [09:28<06:16,  4.25it/s]"
     ]
    },
    {
     "name": "stdout",
     "output_type": "stream",
     "text": [
      "\n"
     ]
    },
    {
     "name": "stderr",
     "output_type": "stream",
     "text": [
      "Loss:  2.0274:  70%|███████   | 2801/4000 [11:02<04:37,  4.31it/s]"
     ]
    },
    {
     "name": "stdout",
     "output_type": "stream",
     "text": [
      "\n"
     ]
    },
    {
     "name": "stderr",
     "output_type": "stream",
     "text": [
      "Loss:  1.8874:  80%|████████  | 3201/4000 [12:36<03:10,  4.18it/s]"
     ]
    },
    {
     "name": "stdout",
     "output_type": "stream",
     "text": [
      "\n"
     ]
    },
    {
     "name": "stderr",
     "output_type": "stream",
     "text": [
      "Loss:  1.8857:  90%|█████████ | 3601/4000 [14:10<01:34,  4.24it/s]"
     ]
    },
    {
     "name": "stdout",
     "output_type": "stream",
     "text": [
      "\n"
     ]
    },
    {
     "name": "stderr",
     "output_type": "stream",
     "text": [
      "Loss:  1.8550: 100%|██████████| 4000/4000 [15:44<00:00,  4.24it/s]"
     ]
    },
    {
     "name": "stdout",
     "output_type": "stream",
     "text": [
      "Finished Training\n"
     ]
    },
    {
     "name": "stderr",
     "output_type": "stream",
     "text": [
      "\n"
     ]
    }
   ],
   "source": [
    "echo_step = 400\n",
    "batches_id = trange(4000)\n",
    "for train_batch in batches_id:  # loop over the dataset multiple times\n",
    "\n",
    "    X, Y = next(gen)\n",
    "    inputs = torch.from_numpy(np.array(X)).to(device)\n",
    "    labels = torch.from_numpy(np.array(Y)).to(device)\n",
    "    # print(labels)\n",
    "    # zero the parameter gradients\n",
    "    optimizer.zero_grad()\n",
    "\n",
    "    # forward + backward + optimize\n",
    "    outputs = net(inputs)\n",
    "    loss = criterion(outputs, labels)\n",
    "    loss.backward()\n",
    "    optimizer.step()\n",
    "\n",
    "    # print statistics\n",
    "    running_loss += loss.item()\n",
    "    batches_id.set_description(f\"Loss: {loss.item(): .04f}\")\n",
    "    if train_batch % echo_step == 0:\n",
    "        print()\n",
    "\n",
    "print('Finished Training')"
   ]
  },
  {
   "cell_type": "code",
   "execution_count": 15,
   "id": "6725a008-465f-4496-8d56-99d791035a5f",
   "metadata": {},
   "outputs": [
    {
     "ename": "NameError",
     "evalue": "name 'val_gen' is not defined",
     "output_type": "error",
     "traceback": [
      "\u001b[0;31m---------------------------------------------------------------------------\u001b[0m",
      "\u001b[0;31mNameError\u001b[0m                                 Traceback (most recent call last)",
      "\u001b[0;32m<ipython-input-15-e730bf7887c3>\u001b[0m in \u001b[0;36m<module>\u001b[0;34m\u001b[0m\n\u001b[1;32m      1\u001b[0m \u001b[0;32mwith\u001b[0m \u001b[0mtorch\u001b[0m\u001b[0;34m.\u001b[0m\u001b[0mno_grad\u001b[0m\u001b[0;34m(\u001b[0m\u001b[0;34m)\u001b[0m\u001b[0;34m:\u001b[0m\u001b[0;34m\u001b[0m\u001b[0;34m\u001b[0m\u001b[0m\n\u001b[0;32m----> 2\u001b[0;31m     \u001b[0minputs\u001b[0m\u001b[0;34m,\u001b[0m \u001b[0mlabels\u001b[0m \u001b[0;34m=\u001b[0m \u001b[0mnext\u001b[0m\u001b[0;34m(\u001b[0m\u001b[0mval_gen\u001b[0m\u001b[0;34m)\u001b[0m\u001b[0;34m\u001b[0m\u001b[0;34m\u001b[0m\u001b[0m\n\u001b[0m\u001b[1;32m      3\u001b[0m     \u001b[0minputs\u001b[0m \u001b[0;34m=\u001b[0m \u001b[0mtorch\u001b[0m\u001b[0;34m.\u001b[0m\u001b[0mtensor\u001b[0m\u001b[0;34m(\u001b[0m\u001b[0minputs\u001b[0m\u001b[0;34m,\u001b[0m \u001b[0mdevice\u001b[0m\u001b[0;34m=\u001b[0m\u001b[0;34m\"cuda\"\u001b[0m\u001b[0;34m,\u001b[0m \u001b[0mdtype\u001b[0m\u001b[0;34m=\u001b[0m\u001b[0mtorch\u001b[0m\u001b[0;34m.\u001b[0m\u001b[0mfloat32\u001b[0m\u001b[0;34m)\u001b[0m\u001b[0;34m.\u001b[0m\u001b[0munsqueeze\u001b[0m\u001b[0;34m(\u001b[0m\u001b[0;36m0\u001b[0m\u001b[0;34m)\u001b[0m\u001b[0;34m\u001b[0m\u001b[0;34m\u001b[0m\u001b[0m\n\u001b[1;32m      4\u001b[0m     \u001b[0mlabels\u001b[0m \u001b[0;34m=\u001b[0m \u001b[0mtorch\u001b[0m\u001b[0;34m.\u001b[0m\u001b[0mtensor\u001b[0m\u001b[0;34m(\u001b[0m\u001b[0mlabels\u001b[0m\u001b[0;34m,\u001b[0m \u001b[0mdevice\u001b[0m\u001b[0;34m=\u001b[0m\u001b[0;34m\"cuda\"\u001b[0m\u001b[0;34m,\u001b[0m \u001b[0mdtype\u001b[0m\u001b[0;34m=\u001b[0m\u001b[0mtorch\u001b[0m\u001b[0;34m.\u001b[0m\u001b[0mlong\u001b[0m\u001b[0;34m)\u001b[0m\u001b[0;34m.\u001b[0m\u001b[0munsqueeze\u001b[0m\u001b[0;34m(\u001b[0m\u001b[0;36m0\u001b[0m\u001b[0;34m)\u001b[0m\u001b[0;34m\u001b[0m\u001b[0;34m\u001b[0m\u001b[0m\n\u001b[1;32m      5\u001b[0m     \u001b[0mprint\u001b[0m\u001b[0;34m(\u001b[0m\u001b[0mnet\u001b[0m\u001b[0;34m(\u001b[0m\u001b[0minputs\u001b[0m\u001b[0;34m)\u001b[0m\u001b[0;34m)\u001b[0m\u001b[0;34m\u001b[0m\u001b[0;34m\u001b[0m\u001b[0m\n",
      "\u001b[0;31mNameError\u001b[0m: name 'val_gen' is not defined"
     ]
    }
   ],
   "source": [
    "with torch.no_grad():\n",
    "    inputs, labels = next(val_gen)\n",
    "    inputs = torch.tensor(inputs, device=\"cuda\", dtype=torch.float32).unsqueeze(0)\n",
    "    labels = torch.tensor(labels, device=\"cuda\", dtype=torch.long).unsqueeze(0)\n",
    "    print(net(inputs))"
   ]
  },
  {
   "cell_type": "code",
   "execution_count": null,
   "id": "74e9fb26-1d76-4480-b6db-18240d551743",
   "metadata": {},
   "outputs": [],
   "source": [
    "s,_=next(gen)\n",
    "s=Signal(s)"
   ]
  },
  {
   "cell_type": "code",
   "execution_count": null,
   "id": "2c15c981-96cc-4c49-aea2-21ab2ec14f96",
   "metadata": {},
   "outputs": [],
   "source": [
    "128**2"
   ]
  },
  {
   "cell_type": "code",
   "execution_count": null,
   "id": "52667bcd-e53c-40fb-8e9d-9c182de504fc",
   "metadata": {},
   "outputs": [],
   "source": [
    "s.show()"
   ]
  },
  {
   "cell_type": "code",
   "execution_count": null,
   "id": "91b1633f-69f1-4915-9bbd-ad5e782350af",
   "metadata": {},
   "outputs": [],
   "source": [
    "s.signal"
   ]
  },
  {
   "cell_type": "code",
   "execution_count": null,
   "id": "b3118ac7-4888-4d34-99ed-c5ba0dc05788",
   "metadata": {},
   "outputs": [],
   "source": []
  }
 ],
 "metadata": {
  "kernelspec": {
   "display_name": "Python 3",
   "language": "python",
   "name": "python3"
  },
  "language_info": {
   "codemirror_mode": {
    "name": "ipython",
    "version": 3
   },
   "file_extension": ".py",
   "mimetype": "text/x-python",
   "name": "python",
   "nbconvert_exporter": "python",
   "pygments_lexer": "ipython3",
   "version": "3.8.10"
  }
 },
 "nbformat": 4,
 "nbformat_minor": 5
}
